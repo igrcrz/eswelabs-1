{
 "cells": [
  {
   "cell_type": "markdown",
   "metadata": {
    "colab_type": "text",
    "id": "51dZwqDNc9x6"
   },
   "source": [
    "# Data Science - Getting Started with Python\n",
    "\n",
    "Following are exercises you should complete. Workflow:\n",
    "\n",
    "1. Complete the exercises! This means fill out the code cells, and run them (shift-enter or click the play button that appears when you're in one of them)\n",
    "2. Take a look at your work, and write comments/add text cells as appropriate to explain\n",
    "3. Upload the notebook to your GitHub repository and submit a link [here](https://docs.google.com/forms/d/e/1FAIpQLScdlw-GN3tHPHxROIulxoPmxXmvK-UmXco3lgjiJ0Ckltn6QA/viewform?usp=sf_link)"
   ]
  },
  {
   "cell_type": "markdown",
   "metadata": {
    "colab_type": "text",
    "id": "I6biutgwdgpb"
   },
   "source": [
    "## Exercise 1 - A bit of Math\n",
    "\n",
    "For these \"word\" problems, use Python to clearly solve them. Your code will \"show your work\" - use good variable names! To show your answers you should write a `print()` statement at the end.\n",
    "\n",
    "### a) It's a gas\n",
    "\n",
    "A taxi driver is calculating their profit over two weeks by adding up the fares they charge and subtracting the cost of gas. The price of gas changes over time - it was `$3.52`/gallon the first week and `$3.57`/gallon this second week. Their car gets 20 miles per gallon.\n",
    "\n",
    "For the first week the driver had a total of 23 passengers with average `$29` fare each, and drove a total of 160 miles. For the second week they had 17 passengers with average `$30` fare each, and drove a total of 220 miles. Assume that for both weeks they purchase all the gas needed during that week (i.e. they refuel every week to maintain a constant level of gas in the tank).\n",
    "\n",
    "Based on the above, answer the following questions:\n",
    "\n",
    "- What is their total profit over both weeks?\n",
    "- During which week was their average (mean) profit per passenger higher?\n"
   ]
  },
  {
   "cell_type": "code",
   "execution_count": 90,
   "metadata": {
    "colab": {},
    "colab_type": "code",
    "id": "CWJeYQW6AoGf"
   },
   "outputs": [
    {
     "name": "stdout",
     "output_type": "stream",
     "text": [
      "The average profit per passenger is Php27.78\n",
      "The average profit per passenger is Php27.69\n",
      "The total profit for both weeks is Php1109.57\n"
     ]
    }
   ],
   "source": [
    "# revenue - expense = profit\n",
    "# Passengers * average_fare = revenue\n",
    "# price of gas * miles driven = expense\n",
    "# car_efficiency 20 miles per gallon \n",
    "\n",
    "# weekX = num. of passengers, average fare, total miles, cost of gas per gallon, car milleage\n",
    "week1 = [23, 29, 160, 3.52, 20]\n",
    "week2 = [17, 30, 220, 3.57, 20]\n",
    "\n",
    "# revenue_function\n",
    "# Number of passengers times average fare\n",
    "def revenue(L):\n",
    "    return L[0]*L[1]\n",
    "\n",
    "# expense_function\n",
    "def expense(L):\n",
    "    return (L[2]/L[4])*L[3]\n",
    "\n",
    "# profit_function\n",
    "def profit(L):\n",
    "    return revenue(L)-expense(L)\n",
    "\n",
    "# total_profit\n",
    "def total_profit():\n",
    "    return print('The total profit for both weeks is Php' + str(round(profit(week1)+profit(week2), 2)))\n",
    "\n",
    "# average profit per passenger\n",
    "def profit_mean(L):\n",
    "    return print('The average profit per passenger is Php' + (str(round(profit(L)/L[0], 2))))\n",
    "\n",
    "profit_mean(week1)\n",
    "profit_mean(week2)\n",
    "total_profit()"
   ]
  },
  {
   "cell_type": "markdown",
   "metadata": {
    "colab_type": "text",
    "id": "0l4bUPHmR5Ko"
   },
   "source": [
    "### b) Mo' money...\n",
    "\n",
    "A cash drawer contains 160 bills, all 10s and 50s. The total value of the 10s and 50s is $1,760.\n",
    "\n",
    "How many of each type of bill are in the drawer? You can figure this out by trial and error (or by doing algebra with pencil and paper), but try to use loops and conditionals to check a plausible possibilities and stop when you find the correct one."
   ]
  },
  {
   "cell_type": "code",
   "execution_count": 135,
   "metadata": {
    "colab": {},
    "colab_type": "code",
    "id": "Q2Atz_kyR8_6"
   },
   "outputs": [
    {
     "name": "stdout",
     "output_type": "stream",
     "text": [
      "The number of tens is 156  and the number of fiftys is:  4\n"
     ]
    }
   ],
   "source": [
    "# \n",
    "# x = tens; x = ([0,1,2,... 160]) list of possible tens\n",
    "# y = fiftys; y = ([0,1,2,... 160])\n",
    "# (x*10) + (y*50) = 1760\n",
    "# x+y=160\n",
    "\n",
    "for tens in range (0,160):\n",
    "    for fiftys in range (0,160):\n",
    "      if tens + fiftys != 160:\n",
    "          continue\n",
    "      if fiftys * 50 + tens * 10 != 1760:\n",
    "          continue\n",
    "      print('The number of tens is', tens, ' and the number of fiftys is: ', fiftys)\n",
    "      break\n",
    "    else:\n",
    "      continue\n",
    "    break"
   ]
  },
  {
   "cell_type": "markdown",
   "metadata": {
    "colab_type": "text",
    "id": "UCFtX_q9aQlc"
   },
   "source": [
    "## Exercise 2 - Drawing a plot\n",
    "\n",
    "Use NumPy and Matplotlib to draw a scatterplot of uniform random `(x, y)` values all drawn from the `[0, 1]` interval. Helpful documentation:\n",
    "\n",
    "*   https://matplotlib.org/tutorials/index.html\n",
    "*   https://docs.scipy.org/doc/numpy/user/quickstart.html\n",
    "\n",
    "Stretch goal - draw more plots! You can refer to the [Matplotlib gallery](https://matplotlib.org/gallery.html) for inspiration, but don't just reproduce something - try to apply it to your own data.\n",
    "\n",
    "How to get data? There's *many* ways, but a good place to get started is with [sklearn.datasets](http://scikit-learn.org/stable/datasets/index.html):\n",
    "\n",
    "```\n",
    "from sklearn import datasets\n",
    "dir(datasets)\n",
    "```"
   ]
  },
  {
   "cell_type": "code",
   "execution_count": 124,
   "metadata": {
    "colab": {},
    "colab_type": "code",
    "id": "pNEb09gMaltL"
   },
   "outputs": [
    {
     "data": {
      "image/png": "[encoded data removed]",
      "text/plain": [
       "<Figure size 432x288 with 1 Axes>"
      ]
     },
     "metadata": {
      "needs_background": "light"
     },
     "output_type": "display_data"
    }
   ],
   "source": [
    "import matplotlib.pyplot as plt\n",
    "import numpy as np\n",
    "\n",
    "n = 50\n",
    "x = np.random.randn(50)\n",
    "y = np.random.randn(50)\n",
    "colors = '#0F0F0F'\n",
    "\n",
    "plt.scatter(x, y, s=50, c=colors, alpha=.5)\n",
    "plt.title('Uniform Random Scatter Plot')\n",
    "plt.xlabel('x')\n",
    "plt.ylabel('y')\n",
    "plt.show()"
   ]
  },
  {
   "cell_type": "code",
   "execution_count": null,
   "metadata": {},
   "outputs": [],
   "source": []
  }
 ],
 "metadata": {
  "colab": {
   "collapsed_sections": [],
   "name": "LSDS Intro Assignment 1 - Getting Started with Python.ipynb",
   "provenance": [],
   "version": "0.3.2"
  },
  "kernelspec": {
   "display_name": "Python 3",
   "language": "python",
   "name": "python3"
  },
  "language_info": {
   "codemirror_mode": {
    "name": "ipython",
    "version": 3
   },
   "file_extension": ".py",
   "mimetype": "text/x-python",
   "name": "python",
   "nbconvert_exporter": "python",
   "pygments_lexer": "ipython3",
   "version": "3.7.3"
  }
 },
 "nbformat": 4,
 "nbformat_minor": 1
}
